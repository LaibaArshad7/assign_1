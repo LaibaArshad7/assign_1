{
 "cells": [
  {
   "cell_type": "code",
   "execution_count": 1,
   "id": "1471e9ee",
   "metadata": {},
   "outputs": [
    {
     "name": "stdout",
     "output_type": "stream",
     "text": [
      "Twinkle,twinkle,little star,\n",
      "             How I wonder what you are!\n",
      "                      Up above the world so high,\n",
      "                      Like a diamond in the sky.\n",
      "     Twinkle,twinkle,little star,\n",
      "             How I wonder what you are\n"
     ]
    }
   ],
   "source": [
    "Q='''Twinkle,twinkle,little star,\n",
    "             How I wonder what you are!\n",
    "                      Up above the world so high,\n",
    "                      Like a diamond in the sky.\n",
    "     Twinkle,twinkle,little star,\n",
    "             How I wonder what you are'''\n",
    "print(Q);"
   ]
  },
  {
   "cell_type": "code",
   "execution_count": 2,
   "id": "90c06559",
   "metadata": {},
   "outputs": [
    {
     "name": "stdout",
     "output_type": "stream",
     "text": [
      "python version\n",
      "3.8.8 (default, Apr 13 2021, 15:08:03) [MSC v.1916 64 bit (AMD64)]\n",
      "python information\n",
      "sys.version_info(major=3, minor=8, micro=8, releaselevel='final', serial=0)\n"
     ]
    }
   ],
   "source": [
    "import sys;\n",
    "print(\"python version\");\n",
    "print(sys.version);\n",
    "print(\"python information\");\n",
    "print(sys.version_info);"
   ]
  },
  {
   "cell_type": "code",
   "execution_count": 3,
   "id": "1f026bc2",
   "metadata": {},
   "outputs": [
    {
     "name": "stdout",
     "output_type": "stream",
     "text": [
      "Current date and time is :\n",
      "21-12-31 18:50:23\n"
     ]
    }
   ],
   "source": [
    "import datetime;\n",
    "now=datetime.datetime.now()\n",
    "print(\"Current date and time is :\");\n",
    "print(now.strftime(\"%y-%m-%d %H:%M:%S\"));"
   ]
  },
  {
   "cell_type": "code",
   "execution_count": 4,
   "id": "84134a73",
   "metadata": {},
   "outputs": [
    {
     "name": "stdout",
     "output_type": "stream",
     "text": [
      "Enter the area of a circle56\n",
      "The radius of a circle is :  9852.03456165759\n"
     ]
    }
   ],
   "source": [
    "import math;\n",
    "radius=float(input(\"Enter the area of a circle\"));\n",
    "area=math.pi*radius*radius;\n",
    "print(\"The radius of a circle is : \",area);"
   ]
  },
  {
   "cell_type": "code",
   "execution_count": 5,
   "id": "a80aef96",
   "metadata": {},
   "outputs": [
    {
     "name": "stdout",
     "output_type": "stream",
     "text": [
      "Enter your first name/njack\n",
      "Enter your last name/npot\n",
      "kcaj top\n"
     ]
    }
   ],
   "source": [
    "fname=input(\"Enter your first name/n\")[::-1];\n",
    "lname=input(\"Enter your last name/n\")[::-1];\n",
    "print(fname+\" \"+lname);"
   ]
  },
  {
   "cell_type": "code",
   "execution_count": 6,
   "id": "60f98bdf",
   "metadata": {},
   "outputs": [
    {
     "name": "stdout",
     "output_type": "stream",
     "text": [
      "Enter you first number90\n",
      "Enter your second number10\n",
      "The sum of two number is : 100\n"
     ]
    }
   ],
   "source": [
    "f=int(input(\"Enter you first number\"));\n",
    "p=int(input(\"Enter your second number\"));\n",
    "print(\"The sum of two number is :\",f+p);"
   ]
  },
  {
   "cell_type": "code",
   "execution_count": null,
   "id": "a4ad2ca8",
   "metadata": {},
   "outputs": [],
   "source": []
  }
 ],
 "metadata": {
  "kernelspec": {
   "display_name": "Python 3",
   "language": "python",
   "name": "python3"
  },
  "language_info": {
   "codemirror_mode": {
    "name": "ipython",
    "version": 3
   },
   "file_extension": ".py",
   "mimetype": "text/x-python",
   "name": "python",
   "nbconvert_exporter": "python",
   "pygments_lexer": "ipython3",
   "version": "3.8.8"
  }
 },
 "nbformat": 4,
 "nbformat_minor": 5
}
